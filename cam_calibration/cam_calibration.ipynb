{
 "cells": [
  {
   "cell_type": "code",
   "execution_count": 1,
   "metadata": {},
   "outputs": [],
   "source": [
    "import numpy as np\n",
    "import cv2\n",
    "import glob\n",
    "import pickle\n",
    "from tqdm import tqdm"
   ]
  },
  {
   "cell_type": "code",
   "execution_count": 2,
   "metadata": {},
   "outputs": [],
   "source": [
    "camera = \"diegos_iriun\"\n",
    "imgs_path = \"cameras/\" + camera\n",
    "format = \"png\"\n",
    "square_size = 0.0235\n",
    "chess_width = 9\n",
    "chess_height = 6"
   ]
  },
  {
   "cell_type": "code",
   "execution_count": 3,
   "metadata": {},
   "outputs": [],
   "source": [
    "# termination criteria\n",
    "criteria = (cv2.TERM_CRITERIA_EPS + cv2.TERM_CRITERIA_MAX_ITER, 30, 0.001)\n",
    "\n",
    "def calibrate(dirpath, image_format, square_len, width=9, height=6):\n",
    "    \"\"\" Apply camera calibration operation for images in the given directory path. \"\"\"\n",
    "    \n",
    "    # prepare object points, like (0,0,0), (1,0,0), (2,0,0) ....,(8,6,0)\n",
    "    objp = np.zeros((height*width, 3), np.float32)\n",
    "    objp[:, :2] = np.mgrid[0:width, 0:height].T.reshape(-1, 2)\n",
    "    objp = objp * square_len \n",
    "    \n",
    "    # Arrays to store object points and image points from all the images.\n",
    "    objpoints = []  # 3d point in real world space\n",
    "    imgpoints = []  # 2d points in image plane.\n",
    "    \n",
    "    images = glob.glob(dirpath+'/' + '*.' + image_format)\n",
    "    print(f\"{len(images)} found\")\n",
    "    \n",
    "    img = cv2.imread(images[0])\n",
    "    (calib_h, calib_w) = img.shape[:2]\n",
    "    print(f\"Resolution: {calib_w}x{calib_h}\")\n",
    "\n",
    "    for fname in tqdm(images):\n",
    "    \n",
    "        img = cv2.imread(fname)\n",
    "\n",
    "        if img.shape[:2] != (calib_h, calib_w):\n",
    "            print(\"Calibration pictures have different resolutions!\")\n",
    "\n",
    "\n",
    "        gray = cv2.cvtColor(img, cv2.COLOR_BGR2GRAY)\n",
    "        # print(gray.shape[::-1])\n",
    "        \n",
    "        # Find the chess board corners\n",
    "        ret, corners = cv2.findChessboardCorners(gray, (width, height), None)\n",
    "        \n",
    "        # If found, add object points, image points (after refining them)\n",
    "        if ret:\n",
    "            objpoints.append(objp)\n",
    "            corners2 = cv2.cornerSubPix(gray, corners, (11, 11), (-1, -1), criteria)\n",
    "            imgpoints.append(corners2)\n",
    "            \n",
    "            # Draw and display the corners\n",
    "            img = cv2.drawChessboardCorners(img, (width, height), corners2, ret)\n",
    "            # Resize image\n",
    "            img_height, img_width = img.shape[:2]\n",
    "            max_width = 1200\n",
    "            max_height = 1080\n",
    "            scale_factor = min(max_width / img_width, max_height / img_height)\n",
    "            img = cv2.resize(img, None, fx=scale_factor, fy=scale_factor, interpolation=cv2.INTER_AREA)\n",
    "            cv2.imshow('Calibration image', img)\n",
    "            cv2.waitKey(50)\n",
    "    \n",
    "    cv2.destroyAllWindows()\n",
    "\n",
    "    return cv2.calibrateCamera(objpoints, imgpoints, gray.shape[::-1], None, None), calib_w, calib_h"
   ]
  },
  {
   "cell_type": "code",
   "execution_count": 4,
   "metadata": {},
   "outputs": [
    {
     "name": "stdout",
     "output_type": "stream",
     "text": [
      "32 found\n",
      "Resolution: 3840x2160\n"
     ]
    },
    {
     "name": "stderr",
     "output_type": "stream",
     "text": [
      "100%|██████████| 32/32 [02:38<00:00,  4.94s/it]\n"
     ]
    }
   ],
   "source": [
    "(ret, mtx, dist, rvecs, tvecs), calib_w, calib_h = calibrate(imgs_path, format, square_size, chess_width, chess_height)"
   ]
  },
  {
   "cell_type": "code",
   "execution_count": 5,
   "metadata": {},
   "outputs": [],
   "source": [
    "# create a dictionary to store the calibration parameters\n",
    "calibration_params = {\"ret\": ret, \"mtx\": mtx, \"dist\": dist, \"rvecs\": rvecs, \"tvecs\": tvecs, \"calib_w\": calib_w, \"calib_h\": calib_h}\n",
    "\n",
    "# save the parameters in a pickle file\n",
    "with open('cameras/' + camera + '/calibration_params.pickle', 'wb') as f:\n",
    "    pickle.dump(calibration_params, f)"
   ]
  }
 ],
 "metadata": {
  "kernelspec": {
   "display_name": "venv",
   "language": "python",
   "name": "python3"
  },
  "language_info": {
   "codemirror_mode": {
    "name": "ipython",
    "version": 3
   },
   "file_extension": ".py",
   "mimetype": "text/x-python",
   "name": "python",
   "nbconvert_exporter": "python",
   "pygments_lexer": "ipython3",
   "version": "3.10.6"
  },
  "orig_nbformat": 4
 },
 "nbformat": 4,
 "nbformat_minor": 2
}
